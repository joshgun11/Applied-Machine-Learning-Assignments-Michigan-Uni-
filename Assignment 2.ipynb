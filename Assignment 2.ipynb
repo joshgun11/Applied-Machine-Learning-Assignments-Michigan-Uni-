{
 "cells": [
  {
   "cell_type": "code",
   "execution_count": 1,
   "metadata": {},
   "outputs": [],
   "source": [
    "import numpy as np\n",
    "import pandas as pd\n",
    "from sklearn.model_selection import train_test_split\n",
    "\n",
    "\n",
    "np.random.seed(0)\n",
    "n = 15\n",
    "x = np.linspace(0,10,n) + np.random.randn(n)/5\n",
    "y = np.sin(x)+x/6 + np.random.randn(n)/10\n",
    "\n",
    "\n",
    "X_train, X_test, y_train, y_test = train_test_split(x, y, random_state=0)"
   ]
  },
  {
   "cell_type": "code",
   "execution_count": 6,
   "metadata": {},
   "outputs": [],
   "source": [
    "def answer_one():\n",
    "    from sklearn.linear_model import LinearRegression\n",
    "    from sklearn.preprocessing import PolynomialFeatures\n",
    "    degrees = [1,3,6,9]\n",
    "    prediction = []\n",
    "    for i in degrees:\n",
    "        poly = PolynomialFeatures(degree = i)\n",
    "        X_train_poly = poly.fit_transform(X_train.reshape(11,1))\n",
    "        lm = LinearRegression()\n",
    "        lm.fit(X_train_poly,y_train)\n",
    "        predicted_values = lm.predict(poly.fit_transform(np.linspace(0,10,100).reshape(100,1)))\n",
    "        prediction.append(predicted_values)\n",
    "    prediction = np.array(prediction)\n",
    "        \n",
    "    \n",
    "    return prediction\n"
   ]
  },
  {
   "cell_type": "code",
   "execution_count": 11,
   "metadata": {},
   "outputs": [],
   "source": [
    "def answer_two():\n",
    "    from sklearn.linear_model import LinearRegression\n",
    "    from sklearn.preprocessing import PolynomialFeatures\n",
    "    from sklearn.metrics.regression import r2_score\n",
    "    degrees = range(0,10)\n",
    "    r2_train = []\n",
    "    r2_test = []\n",
    "    \n",
    "    for i in degrees:\n",
    "        poly = PolynomialFeatures(degree = i)\n",
    "        X_train_poly = poly.fit_transform(X_train.reshape(11,1))\n",
    "        lm = LinearRegression()\n",
    "        lm.fit(X_train_poly,y_train)\n",
    "        lm_score_train = lm.score(X_train_poly,y_train)\n",
    "        X_test_poly = poly.fit_transform(X_test.reshape(4,1))\n",
    "        lm_score_test = lm.score(X_test_poly,y_test)\n",
    "        r2_train.append(lm_score_train)\n",
    "        r2_test.append(lm_score_test)\n",
    "    r2_train = np.array(r2_train)\n",
    "    r2_test = np.array(r2_test)\n",
    "    \n",
    "    return (r2_train,r2_test)\n"
   ]
  },
  {
   "cell_type": "code",
   "execution_count": 12,
   "metadata": {},
   "outputs": [],
   "source": [
    "def answer_three():\n",
    "    scores = answer_two()\n",
    "    \n",
    "    difference = scores[0]-scores[1]\n",
    "    for i in range(len(difference)):\n",
    "        if difference[i] == min(difference):\n",
    "            good = i\n",
    "        elif difference[i] == max(difference):\n",
    "            overfitting = i\n",
    "    for i in range(len(scores[0])):\n",
    "        if scores[0][i] == min(scores[0]):\n",
    "            underfitting = i\n",
    "    \n",
    "    \n",
    "    return (underfitting,overfitting,good)"
   ]
  },
  {
   "cell_type": "code",
   "execution_count": 14,
   "metadata": {},
   "outputs": [],
   "source": [
    "def answer_four():\n",
    "    from sklearn.preprocessing import PolynomialFeatures\n",
    "    from sklearn.linear_model import Lasso, LinearRegression\n",
    "    from sklearn.metrics.regression import r2_score\n",
    "    \n",
    "    poly = PolynomialFeatures(degree = 12)\n",
    "    X_train_poly = poly.fit_transform(X_train.reshape(11,1))\n",
    "    \n",
    "    lm = LinearRegression()\n",
    "    lasso = Lasso(alpha=0.01, max_iter=10000)\n",
    "    \n",
    "    lm.fit(X_train_poly,y_train)\n",
    "    lasso.fit(X_train_poly,y_train)\n",
    "    \n",
    "    X_test_poly = poly.fit_transform(X_test.reshape(4,1))\n",
    "    \n",
    "    lm_pred = lm.predict(X_test_poly)\n",
    "    las_pred = lasso.predict(X_test_poly)\n",
    "    lm_score  = r2_score(y_test,lm_pred)\n",
    "    las_score = r2_score(y_test,las_pred)\n",
    "    \n",
    "\n",
    "   \n",
    "\n",
    "    return (lm_score,las_score)\n"
   ]
  },
  {
   "cell_type": "code",
   "execution_count": null,
   "metadata": {},
   "outputs": [],
   "source": [
    "import pandas as pd\n",
    "import numpy as np\n",
    "from sklearn.model_selection import train_test_split\n",
    "\n",
    "\n",
    "mush_df = pd.read_csv('mushrooms.csv')\n",
    "mush_df2 = pd.get_dummies(mush_df)\n",
    "\n",
    "X_mush = mush_df2.iloc[:,2:]\n",
    "y_mush = mush_df2.iloc[:,1]\n",
    "\n",
    "# use the variables X_train2, y_train2 for Question 5\n",
    "X_train2, X_test2, y_train2, y_test2 = train_test_split(X_mush, y_mush, random_state=0)\n",
    "\n",
    "# For performance reasons in Questions 6 and 7, we will create a smaller version of the\n",
    "# entire mushroom dataset for use in those questions.  For simplicity we'll just re-use\n",
    "# the 25% test split created above as the representative subset.\n",
    "#\n",
    "# Use the variables X_subset, y_subset for Questions 6 and 7.\n",
    "X_subset = X_test2\n",
    "y_subset = y_test2"
   ]
  },
  {
   "cell_type": "code",
   "execution_count": null,
   "metadata": {},
   "outputs": [],
   "source": [
    "def answer_five():\n",
    "    from sklearn.tree import DecisionTreeClassifier\n",
    "    \n",
    "    clf = DecisionTreeClassifier(random_state = 0)\n",
    "    clf.fit(X_train2,y_train2)\n",
    "    a = dict(zip(X_train2.columns,clf.feature_importances_))\n",
    "    a_sorted_keys = sorted(a, key=a.get, reverse=True)\n",
    "    result = a_sorted_keys[0:5]\n",
    "\n",
    "    \n",
    "\n",
    "    return result"
   ]
  },
  {
   "cell_type": "code",
   "execution_count": null,
   "metadata": {},
   "outputs": [],
   "source": []
  }
 ],
 "metadata": {
  "kernelspec": {
   "display_name": "Python 3",
   "language": "python",
   "name": "python3"
  },
  "language_info": {
   "codemirror_mode": {
    "name": "ipython",
    "version": 3
   },
   "file_extension": ".py",
   "mimetype": "text/x-python",
   "name": "python",
   "nbconvert_exporter": "python",
   "pygments_lexer": "ipython3",
   "version": "3.7.6"
  }
 },
 "nbformat": 4,
 "nbformat_minor": 4
}
